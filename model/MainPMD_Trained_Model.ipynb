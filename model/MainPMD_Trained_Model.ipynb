{
  "nbformat": 4,
  "nbformat_minor": 0,
  "metadata": {
    "colab": {
      "name": "MainPMD_Trained_Model.ipynb",
      "provenance": [],
      "collapsed_sections": []
    },
    "kernelspec": {
      "name": "python3",
      "display_name": "Python 3"
    },
    "accelerator": "GPU"
  },
  "cells": [
    {
      "cell_type": "code",
      "metadata": {
        "id": "IPAZpdCcb0gZ",
        "colab_type": "code",
        "outputId": "d8af67a9-9740-492a-d8a5-ff119c5493e0",
        "colab": {
          "base_uri": "https://localhost:8080/",
          "height": 34
        }
      },
      "source": [
        "#MOUNTING GOOGLE DRIVE FILES TO INTERACT WITH THEM\n",
        "from google.colab import drive\n",
        "drive.mount('/content/drive')"
      ],
      "execution_count": 0,
      "outputs": [
        {
          "output_type": "stream",
          "text": [
            "Drive already mounted at /content/drive; to attempt to forcibly remount, call drive.mount(\"/content/drive\", force_remount=True).\n"
          ],
          "name": "stdout"
        }
      ]
    },
    {
      "cell_type": "markdown",
      "metadata": {
        "id": "LVAEZ2z5nl-J",
        "colab_type": "text"
      },
      "source": [
        "# This IS THE MAIN MODEL and Training Program"
      ]
    },
    {
      "cell_type": "code",
      "metadata": {
        "id": "_VwzL0iybPxA",
        "colab_type": "code",
        "colab": {}
      },
      "source": [
        "#IMPORTING THE SET OF TOOLS NEEDED FOR REAL-TIME AUGMENTATION ON IMAGE DATA\n",
        "from tensorflow.keras.preprocessing.image import ImageDataGenerator,DirectoryIterator"
      ],
      "execution_count": 0,
      "outputs": []
    },
    {
      "cell_type": "code",
      "metadata": {
        "id": "e8cokILIe34C",
        "colab_type": "code",
        "colab": {}
      },
      "source": [
        "#IMPORITNG TOOLS TO BUILD A SEQUENTIAL MODEL\n",
        "from tensorflow.keras.models import Sequential,model_from_json\n",
        "#IMPORTING THE CORRESPONDING LAYERS TO BUILD OUR CONVOLUTIONAL NETWORK\n",
        "from tensorflow.keras.layers import Dense,Conv2D,Flatten,Dropout,Activation,BatchNormalization,MaxPool2D\n",
        "#tensorboardcolab IS USED TO RUN TENSORFLOW ON GOOGLE COLAB\n",
        "from tensorboardcolab import TensorBoardColab, TensorBoardColabCallback\n",
        "import time as tm"
      ],
      "execution_count": 0,
      "outputs": []
    },
    {
      "cell_type": "code",
      "metadata": {
        "id": "bnDaMlQRcqef",
        "colab_type": "code",
        "colab": {}
      },
      "source": [
        "#ImageDataGenerator GENERAYES BATCHES OF TENSOR IMAGE DATA WITH REAL-TIME AUGMENTATION. \n",
        "#INCREASING THE NUMBER OF IMAGES IN OUR DATASET TO FACILITATE BETTER LEARNING\n",
        "img_gen=ImageDataGenerator(rotation_range=360,\\\n",
        "                           width_shift_range=.3,\\\n",
        "                           height_shift_range=.2,\\\n",
        "                           shear_range=.4,\\\n",
        "                           zoom_range=0.3,\\\n",
        "                           horizontal_flip=True,\\\n",
        "                           vertical_flip=True,validation_split=.07,\\\n",
        "                           rescale=1.0/255)"
      ],
      "execution_count": 0,
      "outputs": []
    },
    {
      "cell_type": "code",
      "metadata": {
        "id": "PtSHWBzHeGzU",
        "colab_type": "code",
        "colab": {}
      },
      "source": [
        "#BUILDING OF THE MODEL USING CONVOLUTIONAL NEURAL NETWORK. THE MODEL WILL FIRST TRAIN ITSELF ON THE GIVEN TRAINIG DATASET, THE VALIDATION SET AND FINALLY\n",
        "#WILL TEST ITSELF ON THE TEST SET.\n",
        "#WE HAVE TRIED WITH SIX VERSIONS OF OUR MODEL AND HAVE FINALLY USED Model_v6(). \n",
        "#ALTERATION IS DONE AT EVERY TRAINING TO FACILIATE BETTER LEARNING.\n",
        "#THE DROPOUT RATES, NUMBER OF LAYERS(EITHER INCREASING OR DECREASING), NUMBER OF EPOCHS HAVE BEEN REVISED SO AS TO OBATAIN BETTER RESULTS ON THE TEST SET.\n",
        "#MODEL VERSION 1\n",
        "def Model_v1():\n",
        "  model=Sequential()\n",
        "  #layer 1\n",
        "  #THE IMAGES HAVE BEEN CONVERTED TO 128 X 128 RGB FORMAT\n",
        "  model.add(Conv2D(32,(3,3), padding=\"same\" , input_shape=(128,128,3)))\n",
        "  model.add(MaxPool2D((3,3),(2,2), padding=\"same\"))\n",
        "  model.add(Activation(\"relu\"))\n",
        "  #layer 2\n",
        "  model.add(Conv2D(32,(3,3), padding=\"same\" ) ,)\n",
        "  model.add(MaxPool2D((3,3),(3,3), padding=\"same\"))\n",
        "  model.add(Activation(\"relu\"))\n",
        "  #layer 3\n",
        "  model.add(Conv2D(64,(5,5), padding=\"valid\" ))\n",
        "  model.add(MaxPool2D((5,5),(4,4), padding=\"same\"))\n",
        "  model.add(Activation(\"relu\"))\n",
        "  #layer 4\n",
        "  model.add(Dropout(.3))\n",
        "  model.add(Conv2D(128,(3,3), padding=\"same\" ))\n",
        "  model.add(MaxPool2D((5,5),(5,5), padding=\"same\"))\n",
        "  model.add(Activation(\"relu\"))\n",
        "  #layer 5\n",
        "  model.add(Conv2D(32,(3,3), padding=\"same\" ))\n",
        "  model.add(MaxPool2D((3,3),(3,3), padding=\"same\"))\n",
        "  model.add(Activation(\"relu\"))\n",
        "  #Converting to Dense Layer\n",
        "  model.add(Flatten())\n",
        "  model.add(Dense(4096,activation=\"relu\"))\n",
        "  model.add(Dropout(.45))\n",
        "  model.add(Dense(512,activation=\"relu\"))\n",
        "  #OUTPUT_layer\n",
        "  model.add(Dense(6,activation=\"softmax\"))\n",
        "  \n",
        "  return model\n",
        "\n",
        "\n"
      ],
      "execution_count": 0,
      "outputs": []
    },
    {
      "cell_type": "code",
      "metadata": {
        "id": "18-8Ilpji817",
        "colab_type": "code",
        "colab": {}
      },
      "source": [
        "#MODEL COMPILATION AND OPTIMIZATION\n",
        "MyModel=Model_v1()\n",
        "MyModel.compile(loss=\"categorical_crossentropy\",metrics=['accuracy'],optimizer=\"adam\")"
      ],
      "execution_count": 0,
      "outputs": []
    },
    {
      "cell_type": "code",
      "metadata": {
        "id": "IAoDQK_8faQX",
        "colab_type": "code",
        "colab": {}
      },
      "source": [
        "#MODEL VERSION 2\n",
        "def Model_v2():\n",
        "  model=Sequential()\n",
        "  #layer 1\n",
        "  #THE IMAGES HAVE BEEN CONVERTED TO 128 X 128 RGB FORMAT\n",
        "  model.add(Conv2D(32,(3,3), padding=\"same\" , input_shape=(128,128,3)))\n",
        "  model.add(MaxPool2D((3,3),(2,2), padding=\"same\"))\n",
        "  model.add(Activation(\"relu\"))\n",
        "  #layer 2\n",
        "  model.add(Conv2D(32,(3,3), padding=\"same\" ) ,)\n",
        "  model.add(MaxPool2D((3,3),(3,3), padding=\"same\"))\n",
        "  model.add(Activation(\"relu\"))\n",
        "  #layer 3\n",
        "  model.add(Conv2D(64,(5,5), padding=\"valid\" ))\n",
        "  model.add(MaxPool2D((5,5),(4,4), padding=\"same\"))\n",
        "  model.add(Activation(\"relu\"))\n",
        "  #layer 4\n",
        "  model.add(Dropout(.3))\n",
        "  model.add(Conv2D(128,(3,3), padding=\"same\" ))\n",
        "  model.add(MaxPool2D((5,5),(5,5), padding=\"same\"))\n",
        "  model.add(Activation(\"relu\"))\n",
        "  #layer 5\n",
        "  model.add(Dropout(.3))\n",
        "  model.add(Conv2D(128,(3,3), padding=\"same\" ))\n",
        "  model.add(MaxPool2D((5,5),(5,5), padding=\"same\"))\n",
        "  model.add(Activation(\"relu\"))\n",
        "  #layer 6\n",
        "  model.add(Conv2D(32,(3,3), padding=\"same\" ))\n",
        "  model.add(MaxPool2D((3,3),(3,3), padding=\"same\"))\n",
        "  model.add(Activation(\"relu\"))\n",
        "  #Converting to Dense Layer\n",
        "  model.add(Flatten())\n",
        "  model.add(Dense(4096,activation=\"relu\"))\n",
        "  model.add(Dropout(.45))\n",
        "  model.add(Dense(512,activation=\"relu\"))\n",
        "  #OUTPUT_layer\n",
        "  model.add(Dense(6,activation=\"softmax\"))\n",
        "  \n",
        "  return model\n",
        "\n",
        "\n"
      ],
      "execution_count": 0,
      "outputs": []
    },
    {
      "cell_type": "code",
      "metadata": {
        "id": "rvT2byWpfmOu",
        "colab_type": "code",
        "colab": {}
      },
      "source": [
        ""
      ],
      "execution_count": 0,
      "outputs": []
    },
    {
      "cell_type": "code",
      "metadata": {
        "id": "NtdW8ZUDijcO",
        "colab_type": "code",
        "colab": {}
      },
      "source": [
        "#MODEL VERSION 3\n",
        "def Model_v3():\n",
        "  model=Sequential()\n",
        "  #layer 1\n",
        "  model.add(Conv2D(32,(3,3), padding=\"same\" , input_shape=(128,128,3)))\n",
        "  model.add(MaxPool2D((3,3),(2,2), padding=\"same\"))\n",
        "  model.add(Activation(\"relu\"))\n",
        "  #layer 2\n",
        "  model.add(Conv2D(32,(3,3), padding=\"same\" ) ,)\n",
        "  model.add(MaxPool2D((3,3),(3,3), padding=\"same\"))\n",
        "  model.add(Activation(\"relu\"))\n",
        "  #layer 3\n",
        "  model.add(Dropout(.3))\n",
        "  model.add(Conv2D(128,(3,3), padding=\"same\" ))\n",
        "  model.add(MaxPool2D((5,5),(5,5), padding=\"same\"))\n",
        "  model.add(Activation(\"relu\"))\n",
        "  #layer 4\n",
        "  model.add(Conv2D(32,(3,3), padding=\"same\" ))\n",
        "  model.add(MaxPool2D((3,3),(3,3), padding=\"same\"))\n",
        "  model.add(Activation(\"relu\"))\n",
        "  #Converting to Dense Layer\n",
        "  model.add(Flatten())\n",
        "  model.add(Dense(4096,activation=\"relu\"))\n",
        "  model.add(Dropout(.45))\n",
        "  model.add(Dense(512,activation=\"relu\"))\n",
        "  #OUTPUT_layer\n",
        "  model.add(Dense(6,activation=\"softmax\"))\n",
        "  \n",
        "  return model"
      ],
      "execution_count": 0,
      "outputs": []
    },
    {
      "cell_type": "code",
      "metadata": {
        "id": "TidEQuKkitYe",
        "colab_type": "code",
        "colab": {}
      },
      "source": [
        ""
      ],
      "execution_count": 0,
      "outputs": []
    },
    {
      "cell_type": "code",
      "metadata": {
        "id": "nAkwb98akPzN",
        "colab_type": "code",
        "colab": {}
      },
      "source": [
        "#MODEL VERSION 4\n",
        "def Model_v4():\n",
        "  model=Sequential()\n",
        "  #layer 1\n",
        "  model.add(Conv2D(32,(3,3), padding=\"same\" , input_shape=(128,128,3)))\n",
        "  model.add(MaxPool2D((3,3),(2,2), padding=\"same\"))\n",
        "  model.add(Activation(\"relu\"))\n",
        "  #layer 2\n",
        "  model.add(Conv2D(32,(3,3), padding=\"same\" ) ,)\n",
        "  model.add(MaxPool2D((3,3),(3,3), padding=\"same\"))\n",
        "  model.add(Activation(\"relu\"))\n",
        "  #layer 3\n",
        "  model.add(Conv2D(64,(5,5), padding=\"valid\" ))\n",
        "  model.add(MaxPool2D((5,5),(4,4), padding=\"same\"))\n",
        "  model.add(Activation(\"relu\"))\n",
        "  #layer 4\n",
        "  model.add(Dropout(.45))\n",
        "  model.add(Conv2D(128,(3,3), padding=\"same\" ))\n",
        "  model.add(MaxPool2D((5,5),(5,5), padding=\"same\"))\n",
        "  model.add(Activation(\"relu\"))\n",
        "  #layer 5\n",
        "  model.add(Conv2D(32,(3,3), padding=\"same\" ))\n",
        "  model.add(MaxPool2D((3,3),(3,3), padding=\"same\"))\n",
        "  model.add(Activation(\"relu\"))\n",
        "  #Converting to Dense Layer\n",
        "  model.add(Flatten())\n",
        "  model.add(Dense(4096,activation=\"relu\"))\n",
        "  model.add(Dropout(.45))\n",
        "  model.add(Dense(512,activation=\"relu\"))\n",
        "  #OUTPUT_layer\n",
        "  model.add(Dense(6,activation=\"softmax\"))\n",
        "  \n",
        "  return model\n",
        "\n"
      ],
      "execution_count": 0,
      "outputs": []
    },
    {
      "cell_type": "code",
      "metadata": {
        "id": "dIZD6LMVfPe5",
        "colab_type": "code",
        "colab": {}
      },
      "source": [
        "#MODEL VERSION 5\n",
        "def Model_v5():\n",
        "  model=Sequential()\n",
        "  #layer 1\n",
        "  model.add(Conv2D(32,(3,3), padding=\"same\" , input_shape=(128,128,3)))\n",
        "  model.add(MaxPool2D((3,3),(2,2), padding=\"same\"))\n",
        "  model.add(Activation(\"relu\"))\n",
        "  #layer 2\n",
        "  model.add(Conv2D(32,(3,3), padding=\"same\" ) ,)\n",
        "  model.add(MaxPool2D((3,3),(3,3), padding=\"same\"))\n",
        "  model.add(Activation(\"relu\"))\n",
        "  #layer 3\n",
        "  model.add(Conv2D(64,(5,5), padding=\"valid\" ))\n",
        "  model.add(MaxPool2D((5,5),(4,4), padding=\"same\"))\n",
        "  model.add(Activation(\"relu\"))\n",
        "  #layer 4\n",
        "  model.add(Dropout(.3))\n",
        "  model.add(Conv2D(128,(3,3), padding=\"same\" ))\n",
        "  model.add(MaxPool2D((5,5),(5,5), padding=\"same\"))\n",
        "  model.add(Activation(\"relu\"))\n",
        "  #layer 5\n",
        "  model.add(Conv2D(32,(3,3), padding=\"same\" ))\n",
        "  model.add(MaxPool2D((3,3),(3,3), padding=\"same\"))\n",
        "  model.add(Activation(\"relu\"))\n",
        "  #Converting to Dense Layer\n",
        "  model.add(Flatten())\n",
        "  model.add(Dense(4096,activation=\"relu\"))\n",
        "  model.add(Dropout(.3))\n",
        "  model.add(Dense(512,activation=\"relu\"))\n",
        "  #OUTPUT_layer\n",
        "  model.add(Dense(6,activation=\"softmax\"))\n",
        "  \n",
        "  return model\n"
      ],
      "execution_count": 0,
      "outputs": []
    },
    {
      "cell_type": "code",
      "metadata": {
        "id": "YwDcxVTLzVaE",
        "colab_type": "code",
        "colab": {}
      },
      "source": [
        "def Model_v6():\n",
        "  model=Sequential()\n",
        "  #layer 1\n",
        "  model.add(Conv2D(32,(3,3), padding=\"same\" , input_shape=(128,128,3)))\n",
        "  model.add(MaxPool2D((3,3),(2,2), padding=\"same\"))\n",
        "  model.add(Activation(\"relu\"))\n",
        "  #layer 2\n",
        "  model.add(Conv2D(32,(3,3), padding=\"same\" ) ,)\n",
        "  model.add(MaxPool2D((3,3),(3,3), padding=\"same\"))\n",
        "  model.add(Activation(\"relu\"))\n",
        "  #layer 3\n",
        "  model.add(Conv2D(64,(5,5), padding=\"valid\" ))\n",
        "  model.add(MaxPool2D((5,5),(4,4), padding=\"same\"))\n",
        "  model.add(Activation(\"relu\"))\n",
        "  #layer 4\n",
        "  model.add(Dropout(.3))\n",
        "  model.add(Conv2D(128,(3,3), padding=\"same\" ))\n",
        "  model.add(MaxPool2D((5,5),(5,5), padding=\"same\"))\n",
        "  model.add(Activation(\"relu\"))\n",
        "  #layer 5\n",
        "  model.add(Conv2D(64,(3,3), padding=\"same\" ))\n",
        "  model.add(MaxPool2D((3,3),(3,3), padding=\"same\"))\n",
        "  model.add(Activation(\"relu\"))\n",
        "  #Converting to Dense Layer\n",
        "  model.add(Flatten())\n",
        "  model.add(Dense(4096,activation=\"relu\"))\n",
        "  model.add(Dropout(.45))\n",
        "  model.add(Dense(512,activation=\"relu\"))\n",
        "  #OUTPUT_layer\n",
        "  model.add(Dense(6,activation=\"softmax\"))\n",
        "  \n",
        "  return model\n",
        "\n"
      ],
      "execution_count": 0,
      "outputs": []
    },
    {
      "cell_type": "code",
      "metadata": {
        "id": "Ja5VI8IskXuj",
        "colab_type": "code",
        "colab": {}
      },
      "source": [
        "#MODEL COMPILATION AND OPTIMIZATION \n",
        "MyModel1=Model_v1()\n",
        "MyModel1.compile(loss=\"categorical_crossentropy\",metrics=['accuracy'],optimizer=\"adam\")"
      ],
      "execution_count": 0,
      "outputs": []
    },
    {
      "cell_type": "code",
      "metadata": {
        "id": "-MnH-XhIktXn",
        "colab_type": "code",
        "outputId": "b483c22c-c35f-4b76-bc9d-2081eb98df63",
        "colab": {
          "base_uri": "https://localhost:8080/",
          "height": 34
        }
      },
      "source": [
        "#img_gen.flow_from_directory TAKES THE PATH TO THE DIRECTORY AND CREATES BATCHES OF AUGMENTED DATA\n",
        "train_path=\"/content/drive/My Drive/dataset_128\"\n",
        "gen_imgs=img_gen.flow_from_directory(train_path,\\\n",
        "                                     target_size=(128,128),\\\n",
        "                                     batch_size=32)\n",
        "#tnsr_board=tb_colab. (log_dir=f\"./log/{tm.time()}\")"
      ],
      "execution_count": 0,
      "outputs": [
        {
          "output_type": "stream",
          "text": [
            "Found 252 images belonging to 6 classes.\n"
          ],
          "name": "stdout"
        }
      ]
    },
    {
      "cell_type": "code",
      "metadata": {
        "id": "Tqfu4JnwjYC7",
        "colab_type": "code",
        "outputId": "56522e81-1e26-4fd9-a363-9d13cf7156a7",
        "colab": {
          "base_uri": "https://localhost:8080/",
          "height": 170
        }
      },
      "source": [
        "#FITS THE DATA YIELDED BATCH BY BATCH USING PYTHON GENERATOR\n",
        "#INCREASING THE NUMBER OF EPOCHS IMPROVES RESULTS\n",
        "#tbc=TensorBoardColab()\n",
        "MyModel1.fit_generator( gen_imgs,\\\n",
        "                      steps_per_epoch=400,\\\n",
        "                      epochs=4,\\\n",
        "                      validation_steps=50,\\\n",
        "                      validation_data=gen_imgs\\\n",
        "                      )"
      ],
      "execution_count": 0,
      "outputs": [
        {
          "output_type": "stream",
          "text": [
            "Epoch 1/4\n",
            "400/400 [==============================] - 241s 604ms/step - loss: 1.0181 - accuracy: 0.6007 - val_loss: 0.6390 - val_accuracy: 0.7741\n",
            "Epoch 2/4\n",
            "400/400 [==============================] - 227s 567ms/step - loss: 0.4676 - accuracy: 0.8264 - val_loss: 0.3464 - val_accuracy: 0.8579\n",
            "Epoch 3/4\n",
            "400/400 [==============================] - 227s 567ms/step - loss: 0.3428 - accuracy: 0.8776 - val_loss: 0.2440 - val_accuracy: 0.9084\n",
            "Epoch 4/4\n",
            "400/400 [==============================] - 228s 571ms/step - loss: 0.2571 - accuracy: 0.9069 - val_loss: 0.3425 - val_accuracy: 0.8877\n"
          ],
          "name": "stdout"
        },
        {
          "output_type": "execute_result",
          "data": {
            "text/plain": [
              "<tensorflow.python.keras.callbacks.History at 0x7fafb5710470>"
            ]
          },
          "metadata": {
            "tags": []
          },
          "execution_count": 330
        }
      ]
    },
    {
      "cell_type": "code",
      "metadata": {
        "id": "a4ApDFja9V9D",
        "colab_type": "code",
        "colab": {}
      },
      "source": [
        "#!tensorboard --logdir=./log"
      ],
      "execution_count": 0,
      "outputs": []
    },
    {
      "cell_type": "code",
      "metadata": {
        "id": "fhGm4Yynmach",
        "colab_type": "code",
        "colab": {}
      },
      "source": [
        "#\n",
        "save_dir=\"/content/drive/My Drive/PMD_Models\"\n",
        "model_name=\"/final_model_v1.h5\"\n",
        "weights_of_modelName=\"/Wgh_final_model_v1.h5\"\n",
        "MyModel1.save(save_dir+model_name)\n",
        "MyModel1.save_weights(save_dir+weights_of_modelName)\n",
        "\n",
        "\n",
        "model_json = MyModel1.to_json()\n",
        "with open(save_dir+\"/Final_model_v1.json\", \"w\") as json_file:\n",
        "    json_file.write(model_json)\n",
        "# serialize weights to HDF5\n",
        "MyModel1.save_weights(save_dir+\"/weights_for_jsonModel.h5\")\n"
      ],
      "execution_count": 0,
      "outputs": []
    },
    {
      "cell_type": "code",
      "metadata": {
        "id": "UOAsO8YqfraN",
        "colab_type": "code",
        "outputId": "8d978bfc-7fd3-4c26-e533-c495e3fb6cf0",
        "colab": {
          "base_uri": "https://localhost:8080/",
          "height": 51
        }
      },
      "source": [
        "!pip install --upgrade absl-py"
      ],
      "execution_count": 0,
      "outputs": [
        {
          "output_type": "stream",
          "text": [
            "Requirement already up-to-date: absl-py in /usr/local/lib/python3.6/dist-packages (0.9.0)\n",
            "Requirement already satisfied, skipping upgrade: six in /usr/local/lib/python3.6/dist-packages (from absl-py) (1.12.0)\n"
          ],
          "name": "stdout"
        }
      ]
    },
    {
      "cell_type": "code",
      "metadata": {
        "id": "FssVchaxc_ap",
        "colab_type": "code",
        "colab": {}
      },
      "source": [
        "# load json and create model\n",
        "json_file = open(save_dir+\"/Final_model_v1.json\", 'r')\n",
        "loaded_model_json = json_file.read()\n",
        "json_file.close()\n",
        "loaded_model = model_from_json(loaded_model_json)\n",
        "# load weights into new model\n",
        "loaded_model.load_weights(save_dir+\"/weights_for_jsonModel.h5\")"
      ],
      "execution_count": 0,
      "outputs": []
    },
    {
      "cell_type": "code",
      "metadata": {
        "id": "bHJ036t6fwl1",
        "colab_type": "code",
        "outputId": "5dde8add-0974-4716-a8d6-5f5fad01298c",
        "colab": {
          "base_uri": "https://localhost:8080/",
          "height": 88
        }
      },
      "source": [
        "loaded_model.compile(loss=\"categorical_crossentropy\",metrics=['accuracy'],optimizer=\"adam\")\n",
        "hist=loaded_model.evaluate_generator(gen_imgs,steps=100,use_multiprocessing=True,verbose=1)"
      ],
      "execution_count": 0,
      "outputs": [
        {
          "output_type": "stream",
          "text": [
            "WARNING:tensorflow:Using a generator with `use_multiprocessing=True` and multiple workers may duplicate your data. Please consider using the `tf.data.Dataset`.\n",
            "WARNING:tensorflow:multiprocessing can interact badly with TensorFlow, causing nondeterministic deadlocks. For high performance data pipelines tf.data is recommended.\n",
            "100/100 [==============================] - 51s 512ms/step - loss: 0.3437 - accuracy: 0.8869\n"
          ],
          "name": "stdout"
        }
      ]
    },
    {
      "cell_type": "code",
      "metadata": {
        "id": "eUrQJpmYzCQ-",
        "colab_type": "code",
        "colab": {}
      },
      "source": [
        ""
      ],
      "execution_count": 0,
      "outputs": []
    },
    {
      "cell_type": "code",
      "metadata": {
        "id": "OLlXP0Y1yTID",
        "colab_type": "code",
        "outputId": "c9293f2e-b3db-4abe-e115-d0b9bd345346",
        "colab": {
          "base_uri": "https://localhost:8080/",
          "height": 34
        }
      },
      "source": [
        "print(hist[1])"
      ],
      "execution_count": 0,
      "outputs": [
        {
          "output_type": "stream",
          "text": [
            "0.8869123458862305\n"
          ],
          "name": "stdout"
        }
      ]
    },
    {
      "cell_type": "code",
      "metadata": {
        "id": "VbkEe3UK19vT",
        "colab_type": "code",
        "outputId": "83166b36-ec50-413e-a9df-848c7f2b288e",
        "colab": {
          "base_uri": "https://localhost:8080/",
          "height": 122
        }
      },
      "source": [
        "gen2=ImageDataGenerator(horizontal_flip=True,vertical_flip=True,shear_range=.03,rescale=1.0/255)\n",
        "val_path=\"/content/drive/My Drive/Validation_Set_128\"\n",
        "eve_gen=gen2.flow_from_directory(val_path,target_size=(128,128),batch_size=64)\n",
        "loaded_model.evaluate_generator(eve_gen, steps= 100, workers=4, use_multiprocessing=True, verbose=1)"
      ],
      "execution_count": 0,
      "outputs": [
        {
          "output_type": "stream",
          "text": [
            "Found 60 images belonging to 6 classes.\n",
            "WARNING:tensorflow:Using a generator with `use_multiprocessing=True` and multiple workers may duplicate your data. Please consider using the `tf.data.Dataset`.\n",
            "WARNING:tensorflow:multiprocessing can interact badly with TensorFlow, causing nondeterministic deadlocks. For high performance data pipelines tf.data is recommended.\n",
            "100/100 [==============================] - 28s 278ms/step - loss: 0.7764 - accuracy: 0.8368\n"
          ],
          "name": "stdout"
        },
        {
          "output_type": "execute_result",
          "data": {
            "text/plain": [
              "[0.7763625383377075, 0.8368333578109741]"
            ]
          },
          "metadata": {
            "tags": []
          },
          "execution_count": 337
        }
      ]
    },
    {
      "cell_type": "code",
      "metadata": {
        "id": "ptkwFlVa2pQB",
        "colab_type": "code",
        "colab": {}
      },
      "source": [
        "from tensorflow.keras.utils import model_to_dot,plot_model"
      ],
      "execution_count": 0,
      "outputs": []
    },
    {
      "cell_type": "code",
      "metadata": {
        "id": "62fiVUXz4jQb",
        "colab_type": "code",
        "outputId": "ee750183-c89b-48b0-8a20-fa4d2022cdc4",
        "colab": {
          "base_uri": "https://localhost:8080/",
          "height": 1000
        }
      },
      "source": [
        "plot_model(MyModel1)"
      ],
      "execution_count": 0,
      "outputs": [
        {
          "output_type": "execute_result",
          "data": {
            "image/png": "[encoded data removed]",
            "text/plain": [
              "<IPython.core.display.Image object>"
            ]
          },
          "metadata": {
            "tags": []
          },
          "execution_count": 339
        }
      ]
    },
    {
      "cell_type": "code",
      "metadata": {
        "id": "2MHwsQB14waO",
        "colab_type": "code",
        "colab": {}
      },
      "source": [
        ""
      ],
      "execution_count": 0,
      "outputs": []
    }
  ]
}